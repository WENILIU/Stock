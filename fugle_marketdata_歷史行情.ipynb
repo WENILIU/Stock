{
 "cells": [
  {
   "cell_type": "code",
   "execution_count": 2,
   "metadata": {
    "collapsed": false
   },
   "outputs": [
    {
     "name": "stdout",
     "output_type": "stream",
     "text": [
      "0.0\n"
     ]
    }
   ],
   "source": [
    "import time\n",
    "tStart = time.time()\n",
    "tEnd = time.time()\n",
    "print( (tEnd - tStart))"
   ]
  },
  {
   "cell_type": "code",
   "execution_count": 3,
   "metadata": {
    "collapsed": true
   },
   "outputs": [],
   "source": [
    "from fugle_marketdata import RestClient\n",
    "client = RestClient(api_key='MmRkMTA5OWUtNjM3OS00YmQ5LTk4ZWMtNTYzOGQyMjY5MWY2IGIyYTNhYWY5LTcxY2ItNGUyMy04NTVhLTU0ZDhkNzE2ZjM1Mw==')\n",
    "stock = client.stock"
   ]
  },
  {
   "cell_type": "code",
   "execution_count": null,
   "metadata": {
    "collapsed": true
   },
   "outputs": [],
   "source": []
  },
  {
   "cell_type": "code",
   "execution_count": 39,
   "metadata": {
    "collapsed": false
   },
   "outputs": [
    {
     "data": {
      "text/plain": [
       "{'symbol': '2330',\n",
       " 'type': 'EQUITY',\n",
       " 'exchange': 'TWSE',\n",
       " 'market': 'TSE',\n",
       " 'timeframe': 'D',\n",
       " 'data': [{'date': '2023-02-08',\n",
       "   'open': 538,\n",
       "   'high': 540,\n",
       "   'low': 534,\n",
       "   'close': 540,\n",
       "   'volume': 37633169,\n",
       "   'change': 17},\n",
       "  {'date': '2023-02-07',\n",
       "   'open': 524,\n",
       "   'high': 528,\n",
       "   'low': 522,\n",
       "   'close': 523,\n",
       "   'volume': 24362116,\n",
       "   'change': -3},\n",
       "  {'date': '2023-02-06',\n",
       "   'open': 532,\n",
       "   'high': 533,\n",
       "   'low': 526,\n",
       "   'close': 526,\n",
       "   'volume': 32208918,\n",
       "   'change': -16}]}"
      ]
     },
     "execution_count": 39,
     "metadata": {},
     "output_type": "execute_result"
    }
   ],
   "source": [
    "#取得 1 年內的上市櫃歷史股價（依代碼查詢），個股資料區間最遠可回溯至 2010 年，指數部分最遠可回溯至 2015 年\n",
    "#Ｋ線週期，可選 1 1分Ｋ；5 5分Ｋ；10 10分Ｋ；15 15分Ｋ；30 30分Ｋ；60 60分Ｋ；D 日Ｋ；W 週Ｋ；M 月Ｋ\n",
    "stock.historical.candles(**{\"symbol\": \"2330\", \"from\": \"2023-02-06\", \"to\": \"2023-02-08\",\"timeframe\":'D', \"fields\": \"open,high,low,close,volume,change\"})"
   ]
  },
  {
   "cell_type": "code",
   "execution_count": 40,
   "metadata": {
    "collapsed": false
   },
   "outputs": [
    {
     "data": {
      "text/plain": [
       "{'symbol': '0050',\n",
       " 'type': 'EQUITY',\n",
       " 'exchange': 'TWSE',\n",
       " 'market': 'TSE',\n",
       " 'timeframe': '60',\n",
       " 'data': [{'date': '2024-02-23T13:00:00.000+08:00',\n",
       "   'open': 143.9,\n",
       "   'high': 143.95,\n",
       "   'low': 143.7,\n",
       "   'close': 143.75,\n",
       "   'volume': 1887},\n",
       "  {'date': '2024-02-23T12:00:00.000+08:00',\n",
       "   'open': 143.9,\n",
       "   'high': 144,\n",
       "   'low': 143.85,\n",
       "   'close': 143.9,\n",
       "   'volume': 3114},\n",
       "  {'date': '2024-02-23T11:00:00.000+08:00',\n",
       "   'open': 143.75,\n",
       "   'high': 144.1,\n",
       "   'low': 143.7,\n",
       "   'close': 143.95,\n",
       "   'volume': 5053},\n",
       "  {'date': '2024-02-23T10:00:00.000+08:00',\n",
       "   'open': 143.6,\n",
       "   'high': 143.85,\n",
       "   'low': 143.3,\n",
       "   'close': 143.7,\n",
       "   'volume': 3529},\n",
       "  {'date': '2024-02-23T09:00:00.000+08:00',\n",
       "   'open': 143.45,\n",
       "   'high': 144,\n",
       "   'low': 143.45,\n",
       "   'close': 143.6,\n",
       "   'volume': 5545},\n",
       "  {'date': '2024-02-22T13:00:00.000+08:00',\n",
       "   'open': 142.6,\n",
       "   'high': 142.9,\n",
       "   'low': 142.5,\n",
       "   'close': 142.8,\n",
       "   'volume': 2464},\n",
       "  {'date': '2024-02-22T12:00:00.000+08:00',\n",
       "   'open': 142.4,\n",
       "   'high': 142.65,\n",
       "   'low': 142.3,\n",
       "   'close': 142.55,\n",
       "   'volume': 3740},\n",
       "  {'date': '2024-02-22T11:00:00.000+08:00',\n",
       "   'open': 142.2,\n",
       "   'high': 142.45,\n",
       "   'low': 142.15,\n",
       "   'close': 142.4,\n",
       "   'volume': 1941},\n",
       "  {'date': '2024-02-22T10:00:00.000+08:00',\n",
       "   'open': 142.3,\n",
       "   'high': 142.35,\n",
       "   'low': 141.85,\n",
       "   'close': 142.25,\n",
       "   'volume': 1525},\n",
       "  {'date': '2024-02-22T09:00:00.000+08:00',\n",
       "   'open': 142.95,\n",
       "   'high': 143.05,\n",
       "   'low': 142.25,\n",
       "   'close': 142.3,\n",
       "   'volume': 2554},\n",
       "  {'date': '2024-02-21T13:00:00.000+08:00',\n",
       "   'open': 141.25,\n",
       "   'high': 141.35,\n",
       "   'low': 141.2,\n",
       "   'close': 141.2,\n",
       "   'volume': 2690},\n",
       "  {'date': '2024-02-21T12:00:00.000+08:00',\n",
       "   'open': 141.45,\n",
       "   'high': 141.45,\n",
       "   'low': 141.2,\n",
       "   'close': 141.25,\n",
       "   'volume': 3139},\n",
       "  {'date': '2024-02-21T11:00:00.000+08:00',\n",
       "   'open': 141.35,\n",
       "   'high': 141.5,\n",
       "   'low': 141.3,\n",
       "   'close': 141.5,\n",
       "   'volume': 1098},\n",
       "  {'date': '2024-02-21T10:00:00.000+08:00',\n",
       "   'open': 141.45,\n",
       "   'high': 141.5,\n",
       "   'low': 141.25,\n",
       "   'close': 141.3,\n",
       "   'volume': 1327},\n",
       "  {'date': '2024-02-21T09:00:00.000+08:00',\n",
       "   'open': 141.4,\n",
       "   'high': 141.45,\n",
       "   'low': 141.05,\n",
       "   'close': 141.4,\n",
       "   'volume': 2052},\n",
       "  {'date': '2024-02-20T13:00:00.000+08:00',\n",
       "   'open': 141.85,\n",
       "   'high': 141.9,\n",
       "   'low': 141.6,\n",
       "   'close': 141.65,\n",
       "   'volume': 578},\n",
       "  {'date': '2024-02-20T12:00:00.000+08:00',\n",
       "   'open': 141.7,\n",
       "   'high': 142,\n",
       "   'low': 141.6,\n",
       "   'close': 141.85,\n",
       "   'volume': 5342},\n",
       "  {'date': '2024-02-20T11:00:00.000+08:00',\n",
       "   'open': 141.7,\n",
       "   'high': 141.95,\n",
       "   'low': 141.7,\n",
       "   'close': 141.7,\n",
       "   'volume': 2279},\n",
       "  {'date': '2024-02-20T10:00:00.000+08:00',\n",
       "   'open': 141.4,\n",
       "   'high': 141.75,\n",
       "   'low': 141.35,\n",
       "   'close': 141.7,\n",
       "   'volume': 1927},\n",
       "  {'date': '2024-02-20T09:00:00.000+08:00',\n",
       "   'open': 140.55,\n",
       "   'high': 141.8,\n",
       "   'low': 140.4,\n",
       "   'close': 141.45,\n",
       "   'volume': 3130},\n",
       "  {'date': '2024-02-19T13:00:00.000+08:00',\n",
       "   'open': 141.05,\n",
       "   'high': 141.2,\n",
       "   'low': 141.05,\n",
       "   'close': 141.1,\n",
       "   'volume': 970},\n",
       "  {'date': '2024-02-19T12:00:00.000+08:00',\n",
       "   'open': 141,\n",
       "   'high': 141.25,\n",
       "   'low': 140.9,\n",
       "   'close': 141.05,\n",
       "   'volume': 2795},\n",
       "  {'date': '2024-02-19T11:00:00.000+08:00',\n",
       "   'open': 140.65,\n",
       "   'high': 141,\n",
       "   'low': 140.6,\n",
       "   'close': 141,\n",
       "   'volume': 1309},\n",
       "  {'date': '2024-02-19T10:00:00.000+08:00',\n",
       "   'open': 140.8,\n",
       "   'high': 140.95,\n",
       "   'low': 140.6,\n",
       "   'close': 140.65,\n",
       "   'volume': 1526},\n",
       "  {'date': '2024-02-19T09:00:00.000+08:00',\n",
       "   'open': 141,\n",
       "   'high': 141,\n",
       "   'low': 140.6,\n",
       "   'close': 140.8,\n",
       "   'volume': 2341}]}"
      ]
     },
     "execution_count": 40,
     "metadata": {},
     "output_type": "execute_result"
    }
   ],
   "source": [
    "stock.historical.candles(**{\"symbol\": \"0050\",\"timeframe\":'60', \"fields\": \"open,high,low,close,volume,change\"})"
   ]
  },
  {
   "cell_type": "code",
   "execution_count": null,
   "metadata": {
    "collapsed": true
   },
   "outputs": [],
   "source": []
  }
 ],
 "metadata": {
  "anaconda-cloud": {},
  "kernelspec": {
   "display_name": "Python [conda env:RL_Project]",
   "language": "python",
   "name": "conda-env-RL_Project-py"
  },
  "language_info": {
   "codemirror_mode": {
    "name": "ipython",
    "version": 3
   },
   "file_extension": ".py",
   "mimetype": "text/x-python",
   "name": "python",
   "nbconvert_exporter": "python",
   "pygments_lexer": "ipython3",
   "version": "3.8.17"
  }
 },
 "nbformat": 4,
 "nbformat_minor": 1
}
