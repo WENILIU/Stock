{
 "cells": [
  {
   "cell_type": "code",
   "execution_count": 9,
   "metadata": {
    "collapsed": false
   },
   "outputs": [
    {
     "name": "stdout",
     "output_type": "stream",
     "text": [
      "0.0\n"
     ]
    }
   ],
   "source": [
    "import time\n",
    "import os\n",
    "import json\n",
    "import datetime\n",
    "tStart = time.time()\n",
    "tEnd = time.time()\n",
    "print( (tEnd - tStart))"
   ]
  },
  {
   "cell_type": "code",
   "execution_count": 10,
   "metadata": {
    "collapsed": true
   },
   "outputs": [],
   "source": [
    "def save_json_data(tempdata,Filepath):\n",
    "    json_data = json.dumps(tempdata, indent=4)\n",
    "    with open(Filepath, \"w\") as json_file:\n",
    "        json_file.write(json_data)"
   ]
  },
  {
   "cell_type": "code",
   "execution_count": 11,
   "metadata": {
    "collapsed": true
   },
   "outputs": [],
   "source": [
    "#身分驗證\n",
    "from fugle_marketdata import RestClient\n",
    "client = RestClient(api_key='MmRkMTA5OWUtNjM3OS00YmQ5LTk4ZWMtNTYzOGQyMjY5MWY2IGIyYTNhYWY5LTcxY2ItNGUyMy04NTVhLTU0ZDhkNzE2ZjM1Mw==')\n",
    "stock = client.stock"
   ]
  },
  {
   "cell_type": "code",
   "execution_count": 13,
   "metadata": {
    "collapsed": false
   },
   "outputs": [],
   "source": [
    "#取得股票或指數列表\n",
    "StockID_dic=stock.intraday.tickers(type='EQUITY', exchange=\"TWSE\", isNormal=True)"
   ]
  },
  {
   "cell_type": "code",
   "execution_count": 14,
   "metadata": {
    "collapsed": true
   },
   "outputs": [],
   "source": [
    "def historical_candles(StockID,timeframe):\n",
    "    try:\n",
    "        trades_candles=stock.historical.candles(**{\"symbol\": StockID,\"timeframe\":timeframe, \"fields\": \"open,high,low,close,volume,change\"})\n",
    "        return 'Y',trades_candles\n",
    "    except Exception as e:\n",
    "        print('historical_candles error:'+str(e)+str(e.__traceback__.tb_lineno))\n",
    "        return 'N',\"\""
   ]
  },
  {
   "cell_type": "code",
   "execution_count": 16,
   "metadata": {
    "collapsed": false
   },
   "outputs": [
    {
     "name": "stdout",
     "output_type": "stream",
     "text": [
      "twait:41.50981545448303\n"
     ]
    },
    {
     "ename": "KeyboardInterrupt",
     "evalue": "",
     "output_type": "error",
     "traceback": [
      "\u001b[1;31m---------------------------------------------------------------------------\u001b[0m",
      "\u001b[1;31mKeyboardInterrupt\u001b[0m                         Traceback (most recent call last)",
      "Cell \u001b[1;32mIn[16], line 36\u001b[0m\n\u001b[0;32m     34\u001b[0m \u001b[38;5;28mprint\u001b[39m(\u001b[38;5;124m'\u001b[39m\u001b[38;5;124mtwait:\u001b[39m\u001b[38;5;124m'\u001b[39m\u001b[38;5;241m+\u001b[39m\u001b[38;5;28mstr\u001b[39m(twait))\n\u001b[0;32m     35\u001b[0m \u001b[38;5;28;01mif\u001b[39;00m twait\u001b[38;5;241m>\u001b[39m\u001b[38;5;241m=\u001b[39m\u001b[38;5;241m0\u001b[39m:\n\u001b[1;32m---> 36\u001b[0m     \u001b[43mtime\u001b[49m\u001b[38;5;241;43m.\u001b[39;49m\u001b[43msleep\u001b[49m\u001b[43m(\u001b[49m\u001b[43mtwait\u001b[49m\u001b[38;5;241;43m+\u001b[39;49m\u001b[38;5;241;43m10\u001b[39;49m\u001b[43m)\u001b[49m\n\u001b[0;32m     37\u001b[0m count\u001b[38;5;241m=\u001b[39m\u001b[38;5;241m0\u001b[39m\n\u001b[0;32m     38\u001b[0m tStart \u001b[38;5;241m=\u001b[39m time\u001b[38;5;241m.\u001b[39mtime()\n",
      "\u001b[1;31mKeyboardInterrupt\u001b[0m: "
     ]
    }
   ],
   "source": [
    "#取得股票價格Ｋ線(歷史分K)\n",
    "#history_File='D:\\\\股票價格Ｋ線\\\\'\n",
    "history_File='F:\\\\文義\\\\股票資料\\\\股票歷史資料\\\\股票價格Ｋ線\\\\'\n",
    "if not os.path.exists(history_File):os.makedirs(history_File)\n",
    "datetime_now=str(datetime.datetime.now())\n",
    "date=datetime_now[0:10]\n",
    "timeframe_list=['1','5','15','30','60']\n",
    "#timeframe='1'\n",
    "tStart = time.time()\n",
    "count=0\n",
    "for i in range(len(StockID_dic['data'])):\n",
    "    StockID=StockID_dic['data'][i]['symbol']\n",
    "    Stock_name=StockID_dic['data'][i]['name']\n",
    "    Stock_name=Stock_name.replace('*','')\n",
    "    for timeframe in timeframe_list:\n",
    "        if not os.path.exists(history_File+Stock_name):os.makedirs(history_File+Stock_name)\n",
    "        if not os.path.exists(history_File+Stock_name+'\\\\'+timeframe+'\\\\'):os.makedirs(history_File+Stock_name+'\\\\'+timeframe+'\\\\')\n",
    "        #trades_candles=stock.historical.candles(**{\"symbol\": StockID,\"timeframe\":timeframe, \"fields\": \"open,high,low,close,volume,change\"})\n",
    "        Filepath=history_File+Stock_name+'\\\\'+timeframe+'\\\\'+StockID+'_'+date+'.json'\n",
    "        Flag=False\n",
    "        while Flag==False:\n",
    "            result,trades_candles=historical_candles(StockID,timeframe)\n",
    "            if result=='N':\n",
    "                Flag=False\n",
    "            else:\n",
    "                Flag=True\n",
    "        save_json_data(trades_candles,Filepath)\n",
    "        count=count+1\n",
    "        if count>=60:\n",
    "            #進行等待與reset工作\n",
    "            tEnd = time.time()\n",
    "            tspent=tEnd-tStart\n",
    "            twait=60-tspent\n",
    "            print('twait:'+str(twait))\n",
    "            if twait>=0:\n",
    "                time.sleep(twait+10)\n",
    "            count=0\n",
    "            tStart = time.time()\n",
    "    #break;"
   ]
  },
  {
   "cell_type": "code",
   "execution_count": null,
   "metadata": {
    "collapsed": true
   },
   "outputs": [],
   "source": []
  }
 ],
 "metadata": {
  "anaconda-cloud": {},
  "kernelspec": {
   "display_name": "Python [conda env:RL_Project]",
   "language": "python",
   "name": "conda-env-RL_Project-py"
  },
  "language_info": {
   "codemirror_mode": {
    "name": "ipython",
    "version": 3
   },
   "file_extension": ".py",
   "mimetype": "text/x-python",
   "name": "python",
   "nbconvert_exporter": "python",
   "pygments_lexer": "ipython3",
   "version": "3.8.17"
  }
 },
 "nbformat": 4,
 "nbformat_minor": 1
}
