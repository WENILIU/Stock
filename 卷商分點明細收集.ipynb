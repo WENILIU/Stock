{
 "cells": [
  {
   "cell_type": "code",
   "execution_count": 36,
   "metadata": {
    "collapsed": false
   },
   "outputs": [
    {
     "name": "stdout",
     "output_type": "stream",
     "text": [
      "                券商名稱   買進張數  賣出張數  買賣超張數\n",
      "0      00929復華台灣科技優息  10404   562   9842\n",
      "1   00937B群益ESG投等債20  12591  3905   8686\n",
      "2    00665L富邦�琤肭磪囓�2  10767  6505   4262\n",
      "3                      3583   268   3315\n",
      "4     00753L中信中國50正2   6084  3038   3046\n",
      "..               ...    ...   ...    ...\n",
      "95     00858永豐美國500大      2   448   -446\n",
      "96                      507   938   -431\n",
      "97    00915凱基優選高股息30    944  1370   -426\n",
      "98     00926凱基全球菁英55    179   588   -409\n",
      "99    00900富邦特選高股息30    241   628   -387\n",
      "\n",
      "[100 rows x 4 columns]\n"
     ]
    }
   ],
   "source": [
    "import requests\n",
    "from bs4 import BeautifulSoup\n",
    "import pandas as pd\n",
    "from datetime import datetime\n",
    "\n",
    "def scrape_fubon_broker_data(stock_id, start_date, end_date):\n",
    "    \"\"\"\n",
    "    爬取富邦證券卷商買賣超資料\n",
    "    \n",
    "    Parameters:\n",
    "    stock_id (str): 股票代碼\n",
    "    start_date (str): 開始日期 (格式: YYYY-MM-DD)\n",
    "    end_date (str): 結束日期 (格式: YYYY-MM-DD)\n",
    "    \n",
    "    Returns:\n",
    "    pandas.DataFrame: 包含卷商買賣超資料的DataFrame\n",
    "    \"\"\"\n",
    "    \n",
    "    # 構建URL\n",
    "    url = f\"https://fubon-ebrokerdj.fbs.com.tw/z/zg/zgb/zgb0.djhtm\"\n",
    "    params = {\n",
    "        'a': stock_id,\n",
    "        'b': stock_id,\n",
    "        'c': 'E',\n",
    "        'e': start_date,\n",
    "        'f': end_date\n",
    "    }\n",
    "    \n",
    "    # 設定headers模擬瀏覽器\n",
    "    headers = {\n",
    "        'User-Agent': 'Mozilla/5.0 (Windows NT 10.0; Win64; x64) AppleWebKit/537.36 (KHTML, like Gecko) Chrome/91.0.4472.124 Safari/537.36'\n",
    "    }\n",
    "    \n",
    "    try:\n",
    "        # 發送請求\n",
    "        response = requests.get(url, params=params, headers=headers)\n",
    "        response.encoding = 'big5'  # 設定編碼為big5\n",
    "        \n",
    "        # 解析HTML\n",
    "        soup = BeautifulSoup(response.text, 'html.parser')\n",
    "        \n",
    "        # 找到資料表格\n",
    "        data = []\n",
    "        for table in soup.find_all('table', {'class': 't0'}):\n",
    "            if not table:\n",
    "                print(\"找不到資料表格\")\n",
    "                return None\n",
    "\n",
    "            # 解析表格資料\n",
    "            rows = table.find_all('tr')[2:]  # 跳過標題行\n",
    "            for row in rows:\n",
    "                cols = row.find_all('td')\n",
    "                if len(cols) >= 4:  # 確保欄位數量正確\n",
    "                    broker = cols[0].text.strip()\n",
    "                    buy = int(cols[1].text.strip().replace(',', ''))\n",
    "                    sell = int(cols[2].text.strip().replace(',', ''))\n",
    "                    net = int(cols[3].text.strip().replace(',', ''))\n",
    "\n",
    "                    data.append({\n",
    "                        '券商名稱': broker,\n",
    "                        '買進張數': buy,\n",
    "                        '賣出張數': sell,\n",
    "                        '買賣超張數': net\n",
    "                    })\n",
    "        \n",
    "        # 轉換成DataFrame\n",
    "        df = pd.DataFrame(data)\n",
    "        \n",
    "        \n",
    "        return df\n",
    "        \n",
    "    except Exception as e:\n",
    "        print(f\"發生錯誤: {str(e)}\")\n",
    "        return None\n",
    "\n",
    "# 使用範例\n",
    "if __name__ == \"__main__\":\n",
    "    dealer_id = \"9800\"\n",
    "    dealer_name = \"元大\"\n",
    "    sub_dealer_id = \"9800\"\n",
    "    sub_dealer_name = \"元大證卷\"\n",
    "    start_date = \"2025-1-21\"\n",
    "    end_date = \"2025-1-21\"\n",
    "    \n",
    "    df = scrape_fubon_broker_data(stock_id, start_date, end_date)\n",
    "    if df is not None:\n",
    "        print(df)\n",
    "        # 可以選擇將結果保存到CSV\n",
    "        df.to_csv(f'F:\\\\文義\\\\股票資料\\\\股票歷史資料\\\\卷商分點資料\\\\broker_data_{dealer_id}_{dealer_name}_{sub_dealer_id}_{sub_dealer_name}_{start_date}.csv', encoding='utf-8-sig', index=False)"
   ]
  },
  {
   "cell_type": "code",
   "execution_count": null,
   "metadata": {
    "collapsed": true
   },
   "outputs": [],
   "source": []
  },
  {
   "cell_type": "code",
   "execution_count": null,
   "metadata": {
    "collapsed": true
   },
   "outputs": [],
   "source": []
  }
 ],
 "metadata": {
  "anaconda-cloud": {},
  "kernelspec": {
   "display_name": "Python [conda env:RL_Project]",
   "language": "python",
   "name": "conda-env-RL_Project-py"
  },
  "language_info": {
   "codemirror_mode": {
    "name": "ipython",
    "version": 3
   },
   "file_extension": ".py",
   "mimetype": "text/x-python",
   "name": "python",
   "nbconvert_exporter": "python",
   "pygments_lexer": "ipython3",
   "version": "3.8.17"
  }
 },
 "nbformat": 4,
 "nbformat_minor": 1
}
