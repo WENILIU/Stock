{
 "cells": [
  {
   "cell_type": "code",
   "execution_count": 1,
   "metadata": {
    "collapsed": true
   },
   "outputs": [],
   "source": [
    "from configparser import ConfigParser\n",
    "from fugle_trade.sdk import SDK\n",
    "from fugle_trade.order import OrderObject\n",
    "from fugle_trade.constant import (APCode, Trade, PriceFlag, BSFlag, Action)\n",
    "# 讀取設定檔\n",
    "config = ConfigParser()\n",
    "config.read('F:/tradeAPI/config.ini')\n",
    "sdk = SDK(config)\n",
    "# 登入\n",
    "sdk.login()\n",
    "# 建立委託物件"
   ]
  },
  {
   "cell_type": "code",
   "execution_count": 15,
   "metadata": {
    "collapsed": false
   },
   "outputs": [
    {
     "name": "stdout",
     "output_type": "stream",
     "text": [
      "0.3612091541290283\n"
     ]
    }
   ],
   "source": [
    "import time\n",
    "tStart = time.time()\n",
    "order = OrderObject(\n",
    "    buy_sell = Action.Buy,\n",
    "    price_flag = PriceFlag.LimitDown,\n",
    "    price = None,\n",
    "    stock_no = \"2884\",\n",
    "    quantity = 1,\n",
    "    ap_code = APCode.Common\n",
    ")\n",
    "sdk.place_order(order)\n",
    "tEnd = time.time()\n",
    "print( (tEnd - tStart))"
   ]
  },
  {
   "cell_type": "code",
   "execution_count": 14,
   "metadata": {
    "collapsed": false
   },
   "outputs": [
    {
     "name": "stdout",
     "output_type": "stream",
     "text": [
      "[{'work_date': '20240223', 'ord_date': '20240223', 'ord_time': '105051585', 'ord_status': '2', 'ord_no': 'A1804', 'pre_ord_no': '', 'stock_no': '2884', 'buy_sell': 'B', 'ap_code': '1', 'price_flag': '2', 'trade': '0', 'od_price': 22.05, 'org_qty': 1.0, 'mat_qty': 0.0, 'cel_qty': 0.0, 'org_qty_share': 1000, 'mat_qty_share': 0, 'cel_qty_share': 0, 'celable': '1', 'err_code': '00000000', 'err_msg': '', 'avg_price': 0.0, 'bs_flag': 'R'}]\n",
      "0.3238348960876465\n"
     ]
    }
   ],
   "source": [
    "import time\n",
    "tStart = time.time()\n",
    "orderResults = sdk.get_order_results()\n",
    "print(orderResults)\n",
    "tEnd = time.time()\n",
    "print( (tEnd - tStart))"
   ]
  },
  {
   "cell_type": "code",
   "execution_count": 16,
   "metadata": {
    "collapsed": false
   },
   "outputs": [
    {
     "name": "stdout",
     "output_type": "stream",
     "text": [
      "[]\n"
     ]
    }
   ],
   "source": [
    "transactions = sdk.get_transactions(\"0d\")\n",
    "print(transactions)"
   ]
  },
  {
   "cell_type": "code",
   "execution_count": 21,
   "metadata": {
    "collapsed": false
   },
   "outputs": [
    {
     "name": "stdout",
     "output_type": "stream",
     "text": [
      "[]\n"
     ]
    }
   ],
   "source": [
    "transactions_by_date = sdk.get_transactions_by_date(\"2024-01-01\", \"2024-02-22\")\n",
    "print(transactions_by_date)"
   ]
  },
  {
   "cell_type": "code",
   "execution_count": 22,
   "metadata": {
    "collapsed": true
   },
   "outputs": [],
   "source": [
    "@sdk.on('error')\n",
    "def on_error(err):\n",
    "    print(err)"
   ]
  },
  {
   "cell_type": "code",
   "execution_count": 23,
   "metadata": {
    "collapsed": true
   },
   "outputs": [],
   "source": [
    "@sdk.on('order')\n",
    "def on_order(data):\n",
    "    print(data)"
   ]
  },
  {
   "cell_type": "code",
   "execution_count": null,
   "metadata": {
    "collapsed": true
   },
   "outputs": [],
   "source": [
    "from fugle_marketdata import RestClient"
   ]
  }
 ],
 "metadata": {
  "anaconda-cloud": {},
  "kernelspec": {
   "display_name": "Python [conda env:RL_Project]",
   "language": "python",
   "name": "conda-env-RL_Project-py"
  },
  "language_info": {
   "codemirror_mode": {
    "name": "ipython",
    "version": 3
   },
   "file_extension": ".py",
   "mimetype": "text/x-python",
   "name": "python",
   "nbconvert_exporter": "python",
   "pygments_lexer": "ipython3",
   "version": "3.8.17"
  }
 },
 "nbformat": 4,
 "nbformat_minor": 1
}
