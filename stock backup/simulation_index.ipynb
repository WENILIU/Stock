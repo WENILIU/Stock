{
 "cells": [
  {
   "cell_type": "code",
   "execution_count": 7,
   "metadata": {
    "collapsed": false
   },
   "outputs": [
    {
     "name": "stdout",
     "output_type": "stream",
     "text": [
      "Your order has been placed successfully.\n"
     ]
    }
   ],
   "source": [
    "from configparser import ConfigParser\n",
    "from fugle_trade.sdk import SDK\n",
    "from fugle_trade.order import OrderObject\n",
    "from fugle_trade.constant import (APCode, Trade, PriceFlag, BSFlag, Action)\n",
    "# 讀取設定檔\n",
    "config = ConfigParser()\n",
    "config.read('F:/tradeAPI/config.simulation.ini')\n",
    "# 登入\n",
    "sdk = SDK(config)\n",
    "sdk.login()\n",
    "# 建立委託物件\n",
    "order = OrderObject(\n",
    "    buy_sell = Action.Buy,\n",
    "    price_flag = PriceFlag.LimitDown,\n",
    "    price = None,\n",
    "    stock_no = \"2884\",\n",
    "    quantity = 1,\n",
    ")\n",
    "sdk.place_order(order)\n",
    "print(\"Your order has been placed successfully.\")"
   ]
  },
  {
   "cell_type": "code",
   "execution_count": 9,
   "metadata": {
    "collapsed": false
   },
   "outputs": [],
   "source": [
    "from configparser import ConfigParser\n",
    "from fugle_trade.sdk import SDK\n",
    "\n",
    "# 讀取設定檔\n",
    "config = ConfigParser()\n",
    "config.read('F:/tradeAPI/config.ini')\n",
    "# 將設定檔內容寫至 SDK 中，並確認是否已設定密碼\n",
    "sdk = SDK(config)"
   ]
  },
  {
   "cell_type": "code",
   "execution_count": null,
   "metadata": {
    "collapsed": true
   },
   "outputs": [],
   "source": []
  }
 ],
 "metadata": {
  "anaconda-cloud": {},
  "kernelspec": {
   "display_name": "Python [conda env:RL_Project]",
   "language": "python",
   "name": "conda-env-RL_Project-py"
  },
  "language_info": {
   "codemirror_mode": {
    "name": "ipython",
    "version": 3
   },
   "file_extension": ".py",
   "mimetype": "text/x-python",
   "name": "python",
   "nbconvert_exporter": "python",
   "pygments_lexer": "ipython3",
   "version": "3.8.17"
  }
 },
 "nbformat": 4,
 "nbformat_minor": 1
}
