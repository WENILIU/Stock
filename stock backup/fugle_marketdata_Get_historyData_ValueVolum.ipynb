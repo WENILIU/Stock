{
 "cells": [
  {
   "cell_type": "code",
   "execution_count": 1,
   "metadata": {
    "collapsed": false
   },
   "outputs": [
    {
     "name": "stdout",
     "output_type": "stream",
     "text": [
      "0.0\n"
     ]
    }
   ],
   "source": [
    "import time\n",
    "import os\n",
    "import json\n",
    "import datetime\n",
    "tStart = time.time()\n",
    "tEnd = time.time()\n",
    "print( (tEnd - tStart))\n",
    "import configparser"
   ]
  },
  {
   "cell_type": "code",
   "execution_count": 2,
   "metadata": {
    "collapsed": true
   },
   "outputs": [],
   "source": [
    "def save_json_data(tempdata,Filepath):\n",
    "    json_data = json.dumps(tempdata, indent=4)\n",
    "    with open(Filepath, \"w\") as json_file:\n",
    "        json_file.write(json_data)"
   ]
  },
  {
   "cell_type": "code",
   "execution_count": 3,
   "metadata": {
    "collapsed": true
   },
   "outputs": [],
   "source": [
    "#身分驗證\n",
    "from fugle_marketdata import RestClient\n",
    "client = RestClient(api_key='MmRkMTA5OWUtNjM3OS00YmQ5LTk4ZWMtNTYzOGQyMjY5MWY2IGIyYTNhYWY5LTcxY2ItNGUyMy04NTVhLTU0ZDhkNzE2ZjM1Mw==')\n",
    "stock = client.stock"
   ]
  },
  {
   "cell_type": "code",
   "execution_count": 4,
   "metadata": {
    "collapsed": true
   },
   "outputs": [],
   "source": [
    "#取得股票或指數列表\n",
    "StockID_dic=stock.intraday.tickers(type='EQUITY', exchange=\"TWSE\", isNormal=True)"
   ]
  },
  {
   "cell_type": "code",
   "execution_count": 5,
   "metadata": {
    "collapsed": true
   },
   "outputs": [],
   "source": [
    "def ntraday_trades(StockID):\n",
    "    try:\n",
    "        trades_his=stock.intraday.trades(symbol=StockID)\n",
    "        return 'Y',trades_his\n",
    "    except Exception as e:\n",
    "        print('ntraday_trades error:'+str(e)+str(e.__traceback__.tb_lineno))\n",
    "        return 'N',\"\""
   ]
  },
  {
   "cell_type": "code",
   "execution_count": 6,
   "metadata": {
    "collapsed": true
   },
   "outputs": [],
   "source": [
    "config = configparser.ConfigParser()\n",
    "config.read('d:\\\\configfile\\\\fugle_marketdata_Get_historyData_ValueVolum.ini',encoding=\"utf-8\")\n",
    "history_File = config.get('Section_Job', 'history_File')\n",
    "history_File2 = config.get('Section_Job', 'history_File2')\n",
    "history_File3 = config.get('Section_Job', 'history_File3')\n"
   ]
  },
  {
   "cell_type": "code",
   "execution_count": 8,
   "metadata": {
    "collapsed": true
   },
   "outputs": [],
   "source": [
    "def ntraday_candles(StockID):\n",
    "    try:\n",
    "        trades_his=stock.intraday.candles(symbol=StockID)\n",
    "        return 'Y',trades_his\n",
    "    except Exception as e:\n",
    "        print('ntraday_candles error:'+str(e)+str(e.__traceback__.tb_lineno))\n",
    "        return 'N',\"\""
   ]
  },
  {
   "cell_type": "code",
   "execution_count": 9,
   "metadata": {
    "collapsed": false
   },
   "outputs": [],
   "source": [
    "#取得股票漲跌幅排行\n",
    "#history_File='F:\\\\文義\\\\股票資料\\\\股票歷史資料\\\\股票漲跌幅排行\\\\'\n",
    "direction_list=['up','down']\n",
    "if not os.path.exists(history_File):os.makedirs(history_File)\n",
    "for direction in direction_list:\n",
    "    trades_his=stock.snapshot.movers(market='TSE', direction=direction, change='percent')\n",
    "    date=trades_his['date']\n",
    "    Filepath=history_File+'\\\\'+date+'_'+direction+'.json'\n",
    "    save_json_data(trades_his,Filepath)"
   ]
  },
  {
   "cell_type": "code",
   "execution_count": 10,
   "metadata": {
    "collapsed": false
   },
   "outputs": [],
   "source": [
    "#取得股票成交量值排行\n",
    "#history_File2='F:\\\\文義\\\\股票資料\\\\股票歷史資料\\\\股票成交量值排行\\\\'\n",
    "trade_list=['volume','value']\n",
    "if not os.path.exists(history_File2):os.makedirs(history_File2)\n",
    "for trade_list in trade_list:\n",
    "    trades_his=stock.snapshot.actives(market='TSE', trade=trade_list)\n",
    "    date=trades_his['date']\n",
    "    Filepath=history_File2+'\\\\'+date+'_'+trade_list+'.json'\n",
    "    save_json_data(trades_his,Filepath)"
   ]
  },
  {
   "cell_type": "code",
   "execution_count": 11,
   "metadata": {
    "collapsed": false,
    "scrolled": false
   },
   "outputs": [
    {
     "ename": "KeyError",
     "evalue": "'date'",
     "output_type": "error",
     "traceback": [
      "\u001b[1;31m---------------------------------------------------------------------------\u001b[0m",
      "\u001b[1;31mKeyError\u001b[0m                                  Traceback (most recent call last)",
      "Cell \u001b[1;32mIn[11], line 9\u001b[0m\n\u001b[0;32m      7\u001b[0m Stock_name\u001b[38;5;241m=\u001b[39mStock_name\u001b[38;5;241m.\u001b[39mreplace(\u001b[38;5;124m'\u001b[39m\u001b[38;5;124m*\u001b[39m\u001b[38;5;124m'\u001b[39m,\u001b[38;5;124m'\u001b[39m\u001b[38;5;124m'\u001b[39m)\n\u001b[0;32m      8\u001b[0m trades_his\u001b[38;5;241m=\u001b[39mstock\u001b[38;5;241m.\u001b[39mintraday\u001b[38;5;241m.\u001b[39mvolumes(symbol\u001b[38;5;241m=\u001b[39mStockID)\n\u001b[1;32m----> 9\u001b[0m date\u001b[38;5;241m=\u001b[39m\u001b[43mtrades_his\u001b[49m\u001b[43m[\u001b[49m\u001b[38;5;124;43m'\u001b[39;49m\u001b[38;5;124;43mdate\u001b[39;49m\u001b[38;5;124;43m'\u001b[39;49m\u001b[43m]\u001b[49m\n\u001b[0;32m     10\u001b[0m \u001b[38;5;28;01mif\u001b[39;00m \u001b[38;5;129;01mnot\u001b[39;00m os\u001b[38;5;241m.\u001b[39mpath\u001b[38;5;241m.\u001b[39mexists(history_File3\u001b[38;5;241m+\u001b[39mStock_name):os\u001b[38;5;241m.\u001b[39mmakedirs(history_File3\u001b[38;5;241m+\u001b[39mStock_name)\n\u001b[0;32m     11\u001b[0m Filepath\u001b[38;5;241m=\u001b[39mhistory_File3\u001b[38;5;241m+\u001b[39m\u001b[38;5;124m'\u001b[39m\u001b[38;5;130;01m\\\\\u001b[39;00m\u001b[38;5;124m'\u001b[39m\u001b[38;5;241m+\u001b[39mStock_name\u001b[38;5;241m+\u001b[39m\u001b[38;5;124m'\u001b[39m\u001b[38;5;130;01m\\\\\u001b[39;00m\u001b[38;5;124m'\u001b[39m\u001b[38;5;241m+\u001b[39mStockID\u001b[38;5;241m+\u001b[39m\u001b[38;5;124m'\u001b[39m\u001b[38;5;124m_\u001b[39m\u001b[38;5;124m'\u001b[39m\u001b[38;5;241m+\u001b[39mdate\u001b[38;5;241m+\u001b[39m\u001b[38;5;124m'\u001b[39m\u001b[38;5;124m.json\u001b[39m\u001b[38;5;124m'\u001b[39m\n",
      "\u001b[1;31mKeyError\u001b[0m: 'date'"
     ]
    }
   ],
   "source": [
    "#取得股票分價量表\n",
    "#history_File3='F:\\\\文義\\\\股票資料\\\\股票歷史資料\\\\股票分價量表\\\\'\n",
    "if not os.path.exists(history_File3):os.makedirs(history_File3)\n",
    "for i in range(len(StockID_dic['data'])):\n",
    "    StockID=StockID_dic['data'][i]['symbol']\n",
    "    Stock_name=StockID_dic['data'][i]['name']\n",
    "    Stock_name=Stock_name.replace('*','')\n",
    "    trades_his=stock.intraday.volumes(symbol=StockID)\n",
    "    date=trades_his['date']\n",
    "    if not os.path.exists(history_File3+Stock_name):os.makedirs(history_File3+Stock_name)\n",
    "    Filepath=history_File3+'\\\\'+Stock_name+'\\\\'+StockID+'_'+date+'.json'\n",
    "    save_json_data(trades_his,Filepath)\n",
    "    #break;"
   ]
  },
  {
   "cell_type": "code",
   "execution_count": 14,
   "metadata": {
    "collapsed": false
   },
   "outputs": [
    {
     "data": {
      "text/plain": [
       "{'statusCode': 429, 'message': 'Rate limit exceeded'}"
      ]
     },
     "execution_count": 14,
     "metadata": {},
     "output_type": "execute_result"
    }
   ],
   "source": [
    "trades_his"
   ]
  },
  {
   "cell_type": "code",
   "execution_count": null,
   "metadata": {
    "collapsed": true
   },
   "outputs": [],
   "source": []
  },
  {
   "cell_type": "code",
   "execution_count": null,
   "metadata": {
    "collapsed": true
   },
   "outputs": [],
   "source": []
  },
  {
   "cell_type": "code",
   "execution_count": null,
   "metadata": {
    "collapsed": true
   },
   "outputs": [],
   "source": []
  }
 ],
 "metadata": {
  "anaconda-cloud": {},
  "kernelspec": {
   "display_name": "Python [conda env:RL_Project]",
   "language": "python",
   "name": "conda-env-RL_Project-py"
  },
  "language_info": {
   "codemirror_mode": {
    "name": "ipython",
    "version": 3
   },
   "file_extension": ".py",
   "mimetype": "text/x-python",
   "name": "python",
   "nbconvert_exporter": "python",
   "pygments_lexer": "ipython3",
   "version": "3.8.17"
  }
 },
 "nbformat": 4,
 "nbformat_minor": 1
}
