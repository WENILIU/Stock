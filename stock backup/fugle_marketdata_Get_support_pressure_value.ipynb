{
 "cells": [
  {
   "cell_type": "code",
   "execution_count": 1,
   "metadata": {
    "collapsed": false
   },
   "outputs": [
    {
     "name": "stdout",
     "output_type": "stream",
     "text": [
      "0.0\n"
     ]
    }
   ],
   "source": [
    "import time\n",
    "import os\n",
    "import json\n",
    "import datetime\n",
    "tStart = time.time()\n",
    "tEnd = time.time()\n",
    "print( (tEnd - tStart))"
   ]
  },
  {
   "cell_type": "code",
   "execution_count": 2,
   "metadata": {
    "collapsed": true
   },
   "outputs": [],
   "source": [
    "def save_json_data(tempdata,Filepath):\n",
    "    json_data = json.dumps(tempdata, indent=4)\n",
    "    with open(Filepath, \"w\") as json_file:\n",
    "        json_file.write(json_data)"
   ]
  },
  {
   "cell_type": "code",
   "execution_count": 3,
   "metadata": {
    "collapsed": true
   },
   "outputs": [],
   "source": [
    "#身分驗證\n",
    "from fugle_marketdata import RestClient\n",
    "client = RestClient(api_key='MmRkMTA5OWUtNjM3OS00YmQ5LTk4ZWMtNTYzOGQyMjY5MWY2IGIyYTNhYWY5LTcxY2ItNGUyMy04NTVhLTU0ZDhkNzE2ZjM1Mw==')\n",
    "stock = client.stock"
   ]
  },
  {
   "cell_type": "code",
   "execution_count": 4,
   "metadata": {
    "collapsed": true
   },
   "outputs": [],
   "source": [
    "#取得股票或指數列表\n",
    "StockID_dic=stock.intraday.tickers(type='EQUITY', exchange=\"TWSE\", isNormal=True)"
   ]
  },
  {
   "cell_type": "code",
   "execution_count": 5,
   "metadata": {
    "collapsed": true
   },
   "outputs": [],
   "source": [
    "def ntraday_trades(StockID):\n",
    "    try:\n",
    "        trades_his=stock.intraday.trades(symbol=StockID)\n",
    "        return 'Y',trades_his\n",
    "    except Exception as e:\n",
    "        print('ntraday_trades error:'+str(e)+str(e.__traceback__.tb_lineno))\n",
    "        return 'N',\"\""
   ]
  },
  {
   "cell_type": "code",
   "execution_count": 6,
   "metadata": {
    "collapsed": false
   },
   "outputs": [],
   "source": [
    "#取得股票成交明細\n",
    "history_File='F:\\\\文義\\\\股票資料\\\\股票歷史資料\\\\股票價格Ｋ線(即時)\\\\'\n",
    "output_File='F:\\\\文義\\\\股票資料\\\\股票歷史資料\\\\支撐壓力點位\\\\'\n",
    "for i in range(len(StockID_dic['data'])):\n",
    "    StockID=StockID_dic['data'][i]['symbol']\n",
    "    Stock_name=StockID_dic['data'][i]['name']\n",
    "    Stock_name=Stock_name.replace('*','')\n",
    "    if not os.path.exists(history_File+Stock_name):os.makedirs(history_File+Stock_name)\n",
    "    if not os.path.exists(output_File+Stock_name):os.makedirs(output_File+Stock_name)\n",
    "    filelist=os.listdir(history_File+Stock_name+'\\\\')\n",
    "    for file in filelist:\n",
    "        Filepath=history_File+Stock_name+'\\\\'+file\n",
    "        jsonFile = open(Filepath,'r')\n",
    "        r = jsonFile.read()\n",
    "        data= json.JSONDecoder().decode(r)\n",
    "        if data['data']==[]:continue\n",
    "        open_value=data['data'][0]['open']\n",
    "        close_value=data['data'][len(data['data'])-1]['close']\n",
    "        highlist=[]\n",
    "        lowlist=[]\n",
    "        for j in range(len(data['data'])):\n",
    "            high=data['data'][j]['high']\n",
    "            low=data['data'][j]['low']\n",
    "            highlist.append(high)\n",
    "            lowlist.append(low)\n",
    "        high_value=max(highlist)\n",
    "        low_value=min(lowlist)\n",
    "        tempdata=[high_value,open_value,close_value,low_value]\n",
    "        output_Filepath=output_File+Stock_name+'\\\\'+file\n",
    "        save_json_data(tempdata,output_Filepath)\n",
    "\n",
    "        "
   ]
  },
  {
   "cell_type": "code",
   "execution_count": 35,
   "metadata": {
    "collapsed": false
   },
   "outputs": [
    {
     "data": {
      "text/plain": [
       "{'date': '2024-03-27',\n",
       " 'type': 'EQUITY',\n",
       " 'exchange': 'TWSE',\n",
       " 'market': 'TSE',\n",
       " 'symbol': 'A99109',\n",
       " 'data': []}"
      ]
     },
     "execution_count": 35,
     "metadata": {},
     "output_type": "execute_result"
    }
   ],
   "source": [
    "data"
   ]
  },
  {
   "cell_type": "code",
   "execution_count": null,
   "metadata": {
    "collapsed": true
   },
   "outputs": [],
   "source": []
  },
  {
   "cell_type": "code",
   "execution_count": null,
   "metadata": {
    "collapsed": true
   },
   "outputs": [],
   "source": []
  }
 ],
 "metadata": {
  "anaconda-cloud": {},
  "kernelspec": {
   "display_name": "Python [conda env:RL_Project]",
   "language": "python",
   "name": "conda-env-RL_Project-py"
  },
  "language_info": {
   "codemirror_mode": {
    "name": "ipython",
    "version": 3
   },
   "file_extension": ".py",
   "mimetype": "text/x-python",
   "name": "python",
   "nbconvert_exporter": "python",
   "pygments_lexer": "ipython3",
   "version": "3.8.17"
  }
 },
 "nbformat": 4,
 "nbformat_minor": 1
}
