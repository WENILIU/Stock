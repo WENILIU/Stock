{
 "cells": [
  {
   "cell_type": "code",
   "execution_count": 3,
   "metadata": {
    "collapsed": false,
    "jupyter": {
     "outputs_hidden": false
    }
   },
   "outputs": [
    {
     "name": "stdout",
     "output_type": "stream",
     "text": [
      "0.0\n"
     ]
    }
   ],
   "source": [
    "import time\n",
    "import os\n",
    "import json\n",
    "import datetime\n",
    "tStart = time.time()\n",
    "tEnd = time.time()\n",
    "print( (tEnd - tStart))\n",
    "import configparser"
   ]
  },
  {
   "cell_type": "code",
   "execution_count": 4,
   "metadata": {},
   "outputs": [],
   "source": [
    "def save_json_data(tempdata,Filepath):\n",
    "    json_data = json.dumps(tempdata, indent=4)\n",
    "    with open(Filepath, \"w\") as json_file:\n",
    "        json_file.write(json_data)"
   ]
  },
  {
   "cell_type": "code",
   "execution_count": 5,
   "metadata": {},
   "outputs": [],
   "source": [
    "#身分驗證\n",
    "from fugle_marketdata import RestClient\n",
    "client = RestClient(api_key='MmRkMTA5OWUtNjM3OS00YmQ5LTk4ZWMtNTYzOGQyMjY5MWY2IGIyYTNhYWY5LTcxY2ItNGUyMy04NTVhLTU0ZDhkNzE2ZjM1Mw==')\n",
    "stock = client.stock"
   ]
  },
  {
   "cell_type": "code",
   "execution_count": 8,
   "metadata": {
    "collapsed": false,
    "jupyter": {
     "outputs_hidden": false
    }
   },
   "outputs": [],
   "source": [
    "#取得股票或指數列表\n",
    "StockID_dic=stock.intraday.tickers(type='EQUITY', exchange=\"TWSE\", isNormal=True)"
   ]
  },
  {
   "cell_type": "code",
   "execution_count": 11,
   "metadata": {},
   "outputs": [],
   "source": [
    "def historical_candles(StockID,date_from,date_to,timeframe):\n",
    "    try:\n",
    "        trades_candles=stock.historical.candles(**{\"symbol\": StockID, \"from\": date_from, \"to\": date_to,\"timeframe\":timeframe, \"fields\": \"open,high,low,close,volume,change\"})\n",
    "        return 'Y',trades_candles\n",
    "    except Exception as e:\n",
    "        print('historical_candles error:'+str(e)+str(e.__traceback__.tb_lineno))\n",
    "        return 'N',\"\""
   ]
  },
  {
   "cell_type": "code",
   "execution_count": 19,
   "metadata": {
    "collapsed": false,
    "jupyter": {
     "outputs_hidden": false
    }
   },
   "outputs": [],
   "source": [
    "def StockValue_File_Get(StockValue_File):\n",
    "    #StockValue_File='F:\\\\文義\\\\股票資料\\\\股票歷史資料\\\\股票成交量值排行\\\\'\n",
    "    datetime_now=str(datetime.datetime.now())\n",
    "    file=datetime_now[0:10]+'_value.json'\n",
    "    file='2024-10-30_value.json'\n",
    "    jsonFile = open(StockValue_File+file,'r')\n",
    "    r = jsonFile.read()\n",
    "    data= json.JSONDecoder().decode(r)\n",
    "\n",
    "    StockID_filter=[]\n",
    "    for i in range(len(data['data'])):\n",
    "        StockID=data['data'][i]['symbol']\n",
    "        Stock_name=data['data'][i]['name']\n",
    "        if i<100:\n",
    "            StockID_filter.append(StockID)\n",
    "    return StockID_filter"
   ]
  },
  {
   "cell_type": "code",
   "execution_count": null,
   "metadata": {},
   "outputs": [],
   "source": []
  },
  {
   "cell_type": "code",
   "execution_count": 27,
   "metadata": {
    "collapsed": false,
    "jupyter": {
     "outputs_hidden": false
    }
   },
   "outputs": [
    {
     "name": "stdout",
     "output_type": "stream",
     "text": [
      "2330\n",
      "2330\n",
      "2330\n",
      "2330\n",
      "2330\n",
      "2330\n",
      "2330\n",
      "2330\n",
      "2330\n",
      "2330\n"
     ]
    }
   ],
   "source": [
    "#取得股票價格Ｋ線(歷史日,周,月 K)\n",
    "config = configparser.ConfigParser()\n",
    "config.read('d:\\\\configfile\\\\fugle_marketdata_Get_historyData-history_K_long_byDailyValue.ini',encoding=\"utf-8\")\n",
    "history_File = config.get('Section_Job', 'history_File')\n",
    "StockValue_File = config.get('Section_Job', 'StockValue_File')\n",
    "StockID_filter = config.get('Section_Job', 'StockID_filter')\n",
    "\n",
    "history_File='D:\\\\TW056881n\\\\STOCK\\\\股票歷史資料\\\\股票價格Ｋ線\\\\'\n",
    "StockValue_File='D:\\\\TW056881n\\\\STOCK\\\\股票歷史資料\\\\股票成交量值排行\\\\'\n",
    "datetime_now=str(datetime.datetime.now())\n",
    "date_from=datetime_now[0:10]\n",
    "date_to=datetime_now[0:10]\n",
    "year='2015'\n",
    "year_list=['2015','2016','2017','2018','2019','2020','2021','2022','2023','2024']\n",
    "#year_list=['2015']\n",
    "date_from=year+'-01-01'\n",
    "date_to=year+'-12-31'\n",
    "timeframe_list=['D','W','M']\n",
    "if StockID_filter=='':\n",
    "    StockID_filter=StockValue_File_Get(StockValue_File)\n",
    "else:\n",
    "    #StockID_filter=['2330','2317','3231','2454','3450']\n",
    "    StockID_filter=StockID_filter.split(',')\n",
    "StockID_filter=['2330']\n",
    "tStart = time.time()\n",
    "count=0\n",
    "for year in year_list:\n",
    "    date_from=year+'-01-01'\n",
    "    date_to=year+'-12-31'\n",
    "    for i in range(len(StockID_dic['data'])):\n",
    "        StockID=StockID_dic['data'][i]['symbol']\n",
    "        Stock_name=StockID_dic['data'][i]['name']\n",
    "        Stock_name=Stock_name.replace('*','')\n",
    "        if StockID not in StockID_filter:continue\n",
    "        print(StockID)\n",
    "        for timeframe in timeframe_list:\n",
    "            if not os.path.exists(history_File+Stock_name):os.makedirs(history_File+Stock_name)\n",
    "            if not os.path.exists(history_File+Stock_name+'\\\\'+str(timeframe)+'\\\\'):os.makedirs(history_File+Stock_name+'\\\\'+str(timeframe)+'\\\\')\n",
    "            #trades_candles=stock.historical.candles(**{\"symbol\": StockID, \"from\": date_from, \"to\": date_to,\"timeframe\":timeframe, \"fields\": \"open,high,low,close,volume,change\"})\n",
    "            Flag=False\n",
    "            while Flag==False:\n",
    "                result,trades_candles=historical_candles(StockID,date_from,date_to,timeframe)\n",
    "                if result=='N':\n",
    "                    Flag=False\n",
    "                else:\n",
    "                    Flag=True\n",
    "            Filepath=history_File+Stock_name+'\\\\'+timeframe+'\\\\'+StockID+'_'+year+'.json'\n",
    "            save_json_data(trades_candles,Filepath)\n",
    "            count=count+1\n",
    "            if count>=60:\n",
    "                #進行等待與reset工作\n",
    "                tEnd = time.time()\n",
    "                tspent=tEnd-tStart\n",
    "                twait=60-tspent\n",
    "                print('twait:'+str(twait))\n",
    "                if twait>=0:\n",
    "                    time.sleep(twait+10)\n",
    "                count=0\n",
    "                tStart = time.time()\n",
    "        #break;"
   ]
  },
  {
   "cell_type": "code",
   "execution_count": null,
   "metadata": {},
   "outputs": [],
   "source": []
  }
 ],
 "metadata": {
  "anaconda-cloud": {},
  "kernelspec": {
   "display_name": "Python 3 (ipykernel)",
   "language": "python",
   "name": "python3"
  },
  "language_info": {
   "codemirror_mode": {
    "name": "ipython",
    "version": 3
   },
   "file_extension": ".py",
   "mimetype": "text/x-python",
   "name": "python",
   "nbconvert_exporter": "python",
   "pygments_lexer": "ipython3",
   "version": "3.12.7"
  }
 },
 "nbformat": 4,
 "nbformat_minor": 4
}
