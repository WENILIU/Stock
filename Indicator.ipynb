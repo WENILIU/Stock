{
 "cells": [
  {
   "cell_type": "code",
   "execution_count": 1,
   "metadata": {
    "collapsed": false,
    "jupyter": {
     "outputs_hidden": false
    }
   },
   "outputs": [
    {
     "name": "stdout",
     "output_type": "stream",
     "text": [
      "0.0\n"
     ]
    }
   ],
   "source": [
    "import time\n",
    "import json\n",
    "import pandas as pd\n",
    "import numpy as np\n",
    "tStart = time.time()\n",
    "tEnd = time.time()\n",
    "print( (tEnd - tStart))"
   ]
  },
  {
   "cell_type": "code",
   "execution_count": 2,
   "metadata": {
    "collapsed": true,
    "jupyter": {
     "outputs_hidden": true
    }
   },
   "outputs": [],
   "source": [
    "\n",
    "#重要支撐壓力指標\n",
    "#盤中新高點(B點)\n",
    "#回檔新低點(C點)-->止跌點\n",
    "#交易量指標(by分K)\n",
    "#相對成交量 (分K成交量/平均成交量)\n",
    "#跌破前一隻分K的低點\n",
    "#橫向盤整期的旗形\n",
    "#多頭旗形(Bull Flag)\n",
    "#十字線\n",
    "#分K連續出現上漲或下跌的線形(算隻數 ex:連續5隻上漲)\n",
    "#RSI\n",
    "#移動平均趨勢交易\n",
    "#紅轉綠交易\n",
    "#開盤區間突破\n",
    "#壘包指標(一壘,二壘,三壘,全壘打,場外全壘打,0壘包)\n",
    "#每日特定時\n",
    "#發展自己的策略\n",
    "#技術指標只是指標,不是命令\n",
    "\n"
   ]
  },
  {
   "cell_type": "code",
   "execution_count": null,
   "metadata": {
    "collapsed": true,
    "jupyter": {
     "outputs_hidden": true
    }
   },
   "outputs": [],
   "source": []
  },
  {
   "cell_type": "code",
   "execution_count": 172,
   "metadata": {
    "collapsed": true
   },
   "outputs": [],
   "source": [
    "#VWAP指標\n",
    "def calculate_vwap(data):\n",
    "    data=data['data']\n",
    "    grouped_data = {}\n",
    "    for entry in data:\n",
    "        timestamp = entry['date']  # 提取日期和時間部分（不包含秒）\n",
    "        \n",
    "        if timestamp not in grouped_data:\n",
    "            grouped_data[timestamp] = {\n",
    "                'volume': 0,\n",
    "                'value': 0\n",
    "            }\n",
    "        \n",
    "        volume = entry['volume']\n",
    "        price = (entry['high'] + entry['low'] + entry['close']) / 3\n",
    "        closeprice=entry['close']\n",
    "        value = volume * price\n",
    "\n",
    "        grouped_data[timestamp]['volume'] = volume\n",
    "        grouped_data[timestamp]['value'] = value\n",
    "        grouped_data[timestamp]['closeprice'] = closeprice\n",
    "    \n",
    "    vwap_list = []\n",
    "    \n",
    "    total_volume=0\n",
    "    total_value=0\n",
    "    for timestamp, values in grouped_data.items():\n",
    "        total_volume += values['volume']\n",
    "        total_value += values['value']\n",
    "        closeprice = values['closeprice']\n",
    "        \n",
    "        vwap = total_value / total_volume if total_volume != 0 else 0\n",
    "        \n",
    "        vwap_list.append({\n",
    "            'timestamp': timestamp,\n",
    "            'vwap': vwap,\n",
    "            'closeprice': closeprice\n",
    "        })\n",
    "    \n",
    "    return vwap_list"
   ]
  },
  {
   "cell_type": "code",
   "execution_count": null,
   "metadata": {
    "collapsed": true
   },
   "outputs": [],
   "source": [
    "#VWAP指標\n",
    "def calculate_vwap_adjust(data,adjust_thre):\n",
    "    data=data['data']\n",
    "    grouped_data = {}\n",
    "    for entry in data:\n",
    "        timestamp = entry['date']  # 提取日期和時間部分（不包含秒）\n",
    "        \n",
    "        if timestamp not in grouped_data:\n",
    "            grouped_data[timestamp] = {\n",
    "                'volume': 0,\n",
    "                'value': 0\n",
    "            }\n",
    "        \n",
    "        volume = entry['volume']\n",
    "        price = (entry['high'] + entry['low'] + entry['close']) / 3\n",
    "        closeprice=entry['close']\n",
    "        value = volume * price\n",
    "\n",
    "        grouped_data[timestamp]['volume'] = volume\n",
    "        grouped_data[timestamp]['value'] = value\n",
    "        grouped_data[timestamp]['closeprice'] = closeprice\n",
    "    \n",
    "    vwap_list = []\n",
    "    \n",
    "    total_volume=0\n",
    "    total_value=0\n",
    "    adjust_count=0\n",
    "    \n",
    "    for timestamp, values in grouped_data.items():\n",
    "        total_volume += values['volume']\n",
    "        total_value += values['value']\n",
    "        closeprice = values['closeprice']\n",
    "        adjust_count+=1\n",
    "        if adjust_count> adjust_thre:\n",
    "            strat_index=adjust_count-adjust_thre\n",
    "            end_index=adjust_count\n",
    "            total_volume=0\n",
    "            total_value=0\n",
    "            for index in range(strat_index,end_index):\n",
    "                total_volume += list(grouped_data.values())[index]['volume']\n",
    "                total_value += list(grouped_data.values())[index]['value']\n",
    "        \n",
    "        vwap = total_value / total_volume if total_volume != 0 else 0\n",
    "        \n",
    "        vwap_list.append({\n",
    "            'timestamp': timestamp,\n",
    "            'vwap': vwap,\n",
    "            'closeprice': closeprice\n",
    "        })\n",
    "    \n",
    "    return vwap_list"
   ]
  },
  {
   "cell_type": "code",
   "execution_count": 173,
   "metadata": {
    "collapsed": false,
    "jupyter": {
     "outputs_hidden": false
    }
   },
   "outputs": [],
   "source": [
    "#MA指標(週期5,10,20,60)\n",
    "def calculate_ma(data,K=5):\n",
    "    data=data['data']\n",
    "    grouped_data = {}\n",
    "    value_list=[]\n",
    "    MA_list=[]\n",
    "    #K=5\n",
    "    for entry in data:\n",
    "        timestamp = entry['date']  # 提取日期和時間部分（不包含秒）\n",
    "\n",
    "        if timestamp not in grouped_data:\n",
    "            grouped_data[timestamp] = {\n",
    "                'value': 0\n",
    "            }\n",
    "        price = (entry['close'])\n",
    "        value = price\n",
    "        grouped_data[timestamp]['value'] = value\n",
    "        value_list.append(value)\n",
    "\n",
    "    df = pd.DataFrame(data) \n",
    "    df['MA'] = df['close'].rolling(window=K).mean()\n",
    "    latest_ma = df['MA'].tail(1)\n",
    "\n",
    "    count=0\n",
    "    for timestamp, values in grouped_data.items():\n",
    "        #if count<K-1:\n",
    "        #    MA=np.nan\n",
    "        #else:\n",
    "        #    MA = sum(value_list[count-K+1:count+1])/K\n",
    "        MA =df['MA'][count]\n",
    "        count=count+1\n",
    "        MA_list.append({\n",
    "            'timestamp': timestamp,\n",
    "            'MA': MA\n",
    "        })\n",
    "    return MA_list"
   ]
  },
  {
   "cell_type": "code",
   "execution_count": null,
   "metadata": {
    "collapsed": true,
    "jupyter": {
     "outputs_hidden": true
    }
   },
   "outputs": [],
   "source": [
    "#VMA指標(週期5,10,20,60)\n",
    "def calculate_vma(data,K=5):\n",
    "    data=data['data']\n",
    "    grouped_data = {}\n",
    "    value_list=[]\n",
    "    MA_list=[]\n",
    "    #K=5\n",
    "    for entry in data:\n",
    "        timestamp = entry['date']  # 提取日期和時間部分（不包含秒）\n",
    "\n",
    "        if timestamp not in grouped_data:\n",
    "            grouped_data[timestamp] = {\n",
    "                'value': 0\n",
    "            }\n",
    "        volume = (entry['volume'])\n",
    "        value = volume\n",
    "        grouped_data[timestamp]['value'] = value\n",
    "        value_list.append(value)\n",
    "\n",
    "    df = pd.DataFrame(data) \n",
    "    df['MA'] = df['volume'].rolling(window=K).mean()\n",
    "    latest_ma = df['MA'].tail(1)\n",
    "\n",
    "    count=0\n",
    "    for timestamp, values in grouped_data.items():\n",
    "        #if count<K-1:\n",
    "        #    MA=np.nan\n",
    "        #else:\n",
    "        #    MA = sum(value_list[count-K+1:count+1])/K\n",
    "        MA =df['MA'][count]\n",
    "        count=count+1\n",
    "        MA_list.append({\n",
    "            'timestamp': timestamp,\n",
    "            'MA': MA\n",
    "        })\n",
    "    return MA_list"
   ]
  },
  {
   "cell_type": "code",
   "execution_count": 174,
   "metadata": {
    "collapsed": true,
    "jupyter": {
     "outputs_hidden": true
    }
   },
   "outputs": [],
   "source": [
    "#EMA指標(週期5,10,20,60)\n",
    "def calculate_ema(data,K=5):\n",
    "    data=data['data']\n",
    "    grouped_data = {}\n",
    "    value_list=[]\n",
    "    EMA_list=[]\n",
    "    for entry in data:\n",
    "        timestamp = entry['date']  # 提取日期和時間部分（不包含秒）\n",
    "\n",
    "        if timestamp not in grouped_data:\n",
    "            grouped_data[timestamp] = {\n",
    "                'value': 0\n",
    "            }\n",
    "        price = (entry['close'])\n",
    "        value = price\n",
    "        grouped_data[timestamp]['value'] = value\n",
    "        value_list.append(value)\n",
    "\n",
    "    df = pd.DataFrame(data) \n",
    "    df['EMA'] = df['close'].ewm(span=K, adjust=False).mean()\n",
    "    latest_ema = df['EMA'].tail(1)\n",
    "\n",
    "    count=0\n",
    "    for timestamp, values in grouped_data.items():\n",
    "        EMA =df['EMA'][count]\n",
    "        count=count+1\n",
    "        EMA_list.append({\n",
    "            'timestamp': timestamp,\n",
    "            'EMA': EMA\n",
    "        })\n",
    "    return EMA_list"
   ]
  },
  {
   "cell_type": "code",
   "execution_count": null,
   "metadata": {
    "collapsed": true,
    "jupyter": {
     "outputs_hidden": true
    }
   },
   "outputs": [],
   "source": [
    "def calculate_rsi(data, period=14):\n",
    "    close_prices = [item['close'] for item in data['data']]\n",
    "    deltas = np.diff(close_prices)\n",
    "    seed = deltas[:period+1]\n",
    "    up = seed[seed >= 0].sum()/period\n",
    "    down = -seed[seed < 0].sum()/period\n",
    "    rs = up/down\n",
    "    rsi = np.zeros_like(close_prices)\n",
    "    rsi[:period] = 100. - 100./(1. + rs)\n",
    "\n",
    "    for i in range(period, len(close_prices)):\n",
    "        delta = deltas[i-1]\n",
    "\n",
    "        if delta > 0:\n",
    "            upval = delta\n",
    "            downval = 0.\n",
    "        else:\n",
    "            upval = 0.\n",
    "            downval = -delta\n",
    "\n",
    "        up = (up*(period - 1) + upval)/period\n",
    "        down = (down*(period - 1) + downval)/period\n",
    "\n",
    "        rs = up/down\n",
    "        rsi[i] = 100. - 100./(1. + rs)\n",
    "\n",
    "    return rsi\n"
   ]
  },
  {
   "cell_type": "code",
   "execution_count": null,
   "metadata": {
    "collapsed": true,
    "jupyter": {
     "outputs_hidden": true
    }
   },
   "outputs": [],
   "source": []
  },
  {
   "cell_type": "code",
   "execution_count": null,
   "metadata": {
    "collapsed": true,
    "jupyter": {
     "outputs_hidden": true
    }
   },
   "outputs": [],
   "source": []
  },
  {
   "cell_type": "code",
   "execution_count": null,
   "metadata": {
    "collapsed": true,
    "jupyter": {
     "outputs_hidden": true
    }
   },
   "outputs": [],
   "source": []
  }
 ],
 "metadata": {
  "anaconda-cloud": {},
  "kernelspec": {
   "display_name": "Python [default]",
   "language": "python",
   "name": "python3"
  },
  "language_info": {
   "codemirror_mode": {
    "name": "ipython",
    "version": 3
   },
   "file_extension": ".py",
   "mimetype": "text/x-python",
   "name": "python",
   "nbconvert_exporter": "python",
   "pygments_lexer": "ipython3",
   "version": "3.6.3"
  }
 },
 "nbformat": 4,
 "nbformat_minor": 4
}
